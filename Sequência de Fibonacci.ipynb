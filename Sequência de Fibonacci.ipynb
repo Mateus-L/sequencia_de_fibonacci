{
 "cells": [
  {
   "cell_type": "markdown",
   "metadata": {},
   "source": [
    "# Seq de Fibonacci"
   ]
  },
  {
   "cell_type": "markdown",
   "metadata": {},
   "source": [
    "Seq para referência: 1, 1, 2, 3, 5, 8, 13, 21, 34, 55, 89, 144, 233, 377, 610, 987, 1597, 2584, 4181"
   ]
  },
  {
   "cell_type": "markdown",
   "metadata": {},
   "source": [
    "Notebook em python gerador de Fibonacci"
   ]
  },
  {
   "cell_type": "markdown",
   "metadata": {},
   "source": [
    "Variaveis de valor "
   ]
  },
  {
   "cell_type": "code",
   "execution_count": 81,
   "metadata": {},
   "outputs": [],
   "source": [
    "var1 = 0\n",
    "var2 = 1\n",
    "n = 0         #resultado final"
   ]
  },
  {
   "cell_type": "markdown",
   "metadata": {},
   "source": [
    "Variaveis de contagem "
   ]
  },
  {
   "cell_type": "code",
   "execution_count": 82,
   "metadata": {},
   "outputs": [],
   "source": [
    "count = 0          #contagem do looping\n",
    "fnumber = 8          # numero esperado da sequencia"
   ]
  },
  {
   "cell_type": "code",
   "execution_count": 83,
   "metadata": {},
   "outputs": [],
   "source": [
    "while count < (fnumber - 1):     #removendo 1 pois o contador do python começa no 0 então o 3° numero será o looping (0,1,2)\n",
    "    n = var1 + var2              #somando os 2 primeiros números da sequência\n",
    "    var1 = var2                  #substituindo o 1° numero da sequência pelo 2°\n",
    "    var2 = n                     #substituindo o 2° numero da sequência pelo 3°, ou seja, a soma do 1° e 2° (n)\n",
    "    count += 1                   #adicionando 1 a contagem de cada looping"
   ]
  },
  {
   "cell_type": "markdown",
   "metadata": {},
   "source": [
    "Exibindo resultados:"
   ]
  },
  {
   "cell_type": "code",
   "execution_count": 84,
   "metadata": {},
   "outputs": [
    {
     "name": "stdout",
     "output_type": "stream",
     "text": [
      "O 8° número da sequência de Fibonacci é = 21\n"
     ]
    }
   ],
   "source": [
    "print(f'O {fnumber}° número da sequência de Fibonacci é = {n}')"
   ]
  }
 ],
 "metadata": {
  "kernelspec": {
   "display_name": "Python 3",
   "language": "python",
   "name": "python3"
  },
  "language_info": {
   "codemirror_mode": {
    "name": "ipython",
    "version": 3
   },
   "file_extension": ".py",
   "mimetype": "text/x-python",
   "name": "python",
   "nbconvert_exporter": "python",
   "pygments_lexer": "ipython3",
   "version": "3.8.5"
  }
 },
 "nbformat": 4,
 "nbformat_minor": 4
}
